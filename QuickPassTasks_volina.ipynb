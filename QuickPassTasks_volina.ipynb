{
 "cells": [
  {
   "cell_type": "markdown",
   "metadata": {
    "id": "gQJ_IE75GhYZ"
   },
   "source": [
    "#### Задача 1. \n",
    "\n",
    "Напишите программу, которая будет считывать пары чисел в цикле, затем для каждой пары посчитает деление ее первого члена на второй и выведет результат в форматированном виде таким образом, чтобы исходные числа занимали такое пространство, какова максимальная длина самого большого числа + 1, а результат был выравнен по правому краю и округлен до двух знаков после запятой. \n",
    "\n",
    "Пример ввода-вывода:\n",
    "\n",
    "    3 2\n",
    "    5 3\n",
    "    18 2\n",
    "\n",
    "    3   / 2  = 1.50\n",
    "    5   / 3  = 1.67\n",
    "    18  / 2  = 9.00\n",
    "\n",
    "(размер первого окошка - 3, между цифрами идет ' / ', размер второго окошка - 2, потом ' = ', потом округленные числа ответов. "
   ]
  },
  {
   "cell_type": "code",
   "execution_count": null,
   "metadata": {
    "id": "WWpBxBUkGd1G"
   },
   "outputs": [],
   "source": [
    "nums = input('Вводите пары чисел через перенос строки\\nКогда захотите остановиться, просто нажмите Enter, не вводя числа (пустую строчку)\\n').split()\n",
    "nums_couples = []\n",
    "while nums:\n",
    "    try:\n",
    "        float(nums[0]), float(nums[1])\n",
    "        if len(nums) != 2:\n",
    "            print('Что-то не так с форматом, введите, пожалуйста, два числа')\n",
    "        elif float(nums[1]) == 0.0:\n",
    "            print('На ноль делить нельзя :(')\n",
    "        else:\n",
    "            nums_couples.append(nums)\n",
    "    except (ValueError, IndexError):\n",
    "        print('Что-то не так с форматом, введите, пожалуйста, два числа')\n",
    "    nums = input().split()\n",
    "\n",
    "lens = max([len(i[0]) for i in nums_couples]), max([len(i[1]) for i in nums_couples])\n",
    "for couple in nums_couples:\n",
    "    print(couple[0].ljust(lens[0]) + ' / ' + couple[1].ljust(lens[1]) + ' = ' + '{0:.2f}'.format(float(couple[0]) / float(couple[1])))"
   ]
  },
  {
   "cell_type": "markdown",
   "metadata": {},
   "source": [
    "#### Задача 2. \n",
    "\n",
    "Пользователь вводит с клавиатуры какие-то числа (необходимо считывать их в цикле), пока не введет ноль. Нужно посчитать стандартное отклонение по формуле из википедии (можно выбрать любую из двух формул там). Списками пользоваться нельзя."
   ]
  },
  {
   "cell_type": "code",
   "execution_count": null,
   "metadata": {
    "id": "wWZYCxOdIbmx"
   },
   "outputs": [],
   "source": [
    "nums = ()\n",
    "num = input()\n",
    "while num != '0':\n",
    "    try:\n",
    "        nums += (float(num),)\n",
    "    except ValueError:\n",
    "        print(f'\"{num}\" — это не число, не войдёт в выборку :(')\n",
    "    num = input()\n",
    "print((sum((num - (sum(nums) / len(nums))) ** 2 for num in nums) / len(nums)) ** (1 / 2))"
   ]
  },
  {
   "cell_type": "markdown",
   "metadata": {
    "id": "c9iY1LIHIczA"
   },
   "source": [
    "#### Задача 3.\n",
    "\n",
    "Пользователь вводит какие-то целые числа в бесконечном цикле, пока не введет ноль; программа должна выводить введенное число и согласовать с ним слово \"кролик\", например,\n",
    "\n",
    "    1 кролик\n",
    "    2 кролика\n",
    "    11 кроликов\n",
    "    123 кролика\n",
    "    ..."
   ]
  },
  {
   "cell_type": "code",
   "execution_count": null,
   "metadata": {},
   "outputs": [],
   "source": [
    "num = (input('Введите целое число: '))\n",
    "while num != '0':\n",
    "    try:\n",
    "        if int(num) != float(num):\n",
    "            print('Это не целое число, попробуйте ещё раз.', end=' ')\n",
    "        elif num[-1] == '1' and (len(num) == 1 or num[-2] != '1'):\n",
    "            print(f'{num} кролик')\n",
    "        elif 1 < int(num[-1]) < 5 and (len(num) == 1 or num[-2] != '1'):\n",
    "            print(f'{num} кролика')\n",
    "        else:\n",
    "            print(f'{num} кроликов')\n",
    "    except ValueError:\n",
    "        print('Это не число или не целое число, попробуйте ещё раз.', end=' ')\n",
    "    num = input('Введите ещё одно целое число: ')"
   ]
  },
  {
   "cell_type": "markdown",
   "metadata": {
    "id": "TxNLhtHLJP3g"
   },
   "source": [
    "#### Задача 4. \n",
    "\n",
    "Программа загадывает число от 1 до 1023. Игрок пытается угадать это число, и у него есть 10 попыток. Если игрок вводит загаданное число, программа поздравляет его и заканчивает работу. Иначе программа должна напечатать, введённое число больше или меньше загаданного. Если все 10 попыток неудачны - программа должна написать, что попытки кончились, вывести загаданное число, и предложить сыграть в игру заново (при этом число должно быть загадано другое). Если пользователь вводит число меньше, чем 1, или больше, чем 1023, программа должна об этом сообщить - но не засчитывать попытку (т.е., это не считается неудачной попыткой).\n",
    "\n",
    "Ответьте на вопрос: готовы ли вы ручаться, что угадаете загаданное число за эти 10 попыток?\n",
    "\n",
    "_Я — нет, хотя, наверное, есть какая-нибудь тактика_\n",
    "\n",
    "Чтобы загадать рандомное число, нужно использовать функцию randint() из внешнего модуля random."
   ]
  },
  {
   "cell_type": "code",
   "execution_count": null,
   "metadata": {},
   "outputs": [],
   "source": [
    "from random import randint\n",
    "\n",
    "def game(num_to_guess):\n",
    "    attempts = 10\n",
    "    while attempts:\n",
    "        try:\n",
    "            user_num = int(input('Попробуйте угадать загаданное число: '))\n",
    "            if user_num < 1:\n",
    "                print('Это число меньше, чем 1.\\nБудьте внимательнее: загадано число от 1 до 1023 включительно.')\n",
    "            elif user_num > 1023:\n",
    "                print('Это число больше, чем 1023.\\nБудьте внимательнее: загадано число от 1 до 1023 включительно.')\n",
    "            else:\n",
    "                if user_num == num_to_guess:\n",
    "                    print('Вы великолепны! Это безоговорчная победа!')\n",
    "                    return True\n",
    "                if user_num < num_to_guess:\n",
    "                    print('Загаданное число больше этого.')\n",
    "                else:\n",
    "                    print('Загаданное число меньше этого.')\n",
    "                attempts -= 1\n",
    "        except ValueError:\n",
    "            print('Хм, кажется, вы ввели не число или не целое число...')\n",
    "    print(f'Жаль, что 10 попыток закончились :(\\nЯ загадал число {num_to_guess}')\n",
    "    return False"
   ]
  },
  {
   "cell_type": "code",
   "execution_count": null,
   "metadata": {},
   "outputs": [],
   "source": [
    "is_won = False\n",
    "while not is_won:\n",
    "    is_won = game(randint(1, 1023))"
   ]
  },
  {
   "cell_type": "markdown",
   "metadata": {
    "id": "xpCE6Jz9JWrx"
   },
   "source": [
    "#### Задача 5. \n",
    "\n",
    "Сортировка с \"ё\": напишите программу, которая будет сортировать слова в списке таким образом, чтобы \"ёлка\" вставала на свое место, и \"ядрёный\" тоже. "
   ]
  },
  {
   "cell_type": "code",
   "execution_count": null,
   "metadata": {},
   "outputs": [],
   "source": [
    "def true_alphabet_sort(word_arr):\n",
    "    order = {symb[1]: symb[0] for symb in enumerate(u\"абвгдеёжзийклмнопрстуфхцчшщъыьэюя\")}\n",
    "    return sorted(word_arr, key = lambda x: order[x[0].lower()])\n",
    "# true_alphabet_sort(['ёлка', 'ядрёный', 'ядрить', \"ель\", \"элка\"])"
   ]
  },
  {
   "cell_type": "markdown",
   "metadata": {
    "id": "SIvEya_yJjlR"
   },
   "source": [
    "#### Задача 6. \n",
    "\n",
    "Напишите функцию, которая принимает неограниченное количество параметров - целых чисел и верните все эти числа, возведенные в квадрат, в списке."
   ]
  },
  {
   "cell_type": "code",
   "execution_count": null,
   "metadata": {
    "id": "SAH0QLSZJwtx"
   },
   "outputs": [],
   "source": [
    "def square(*nums):\n",
    "    res = []\n",
    "    errors = []\n",
    "    for num in nums:\n",
    "        if type(num) == int:\n",
    "            res.append(num ** 2)\n",
    "        else:\n",
    "            errors.append(num)\n",
    "    if len(errors) == 1:\n",
    "        print(f'{errors[0]} — не целое число, его квадрата не будет в списке результатов')\n",
    "    elif len(errors) > 1:\n",
    "        print(f'{\", \".join([str(err) for err in errors])} — не целые числа, их квадратов не будет в списке результатов')\n",
    "    return res\n",
    "\n",
    "square(23, 234, '123', 12.3)"
   ]
  },
  {
   "cell_type": "markdown",
   "metadata": {
    "id": "4CsFwmXlJx3x"
   },
   "source": [
    "#### Задача 7. \n",
    "\n",
    "Напишите функцию, которая принимает список строк и название метода строк и возвращает список из результатов применения этого метода к строкам. Например:\n",
    "\n",
    "\n",
    "    applier(input().split(), upper) \n",
    "\n",
    "должно вернуть список из тех же слов, только написанных заглавными буквами. "
   ]
  },
  {
   "cell_type": "markdown",
   "metadata": {},
   "source": [
    "_Надеюсь, имя функции должно подаваться на вход как строка всё-таки, если нет, то я не умею такое обходить_"
   ]
  },
  {
   "cell_type": "code",
   "execution_count": null,
   "metadata": {
    "id": "nEuDp-HkKLRq"
   },
   "outputs": [],
   "source": [
    "def applier(arr_lines, func_name):\n",
    "    if (hasattr(str, func_name)):\n",
    "        f = getattr(str, func_name)\n",
    "        return [f(line) for line in arr_lines]\n",
    "    else:\n",
    "        print('У строк нет такого метода, функция вернёт грустный смайлик')\n",
    "        return ':('\n",
    "\n",
    "# applier(input().split(), 'upper')\n",
    "# applier(input().split(), 'list')"
   ]
  },
  {
   "cell_type": "markdown",
   "metadata": {
    "id": "SR-MmrLqKMah"
   },
   "source": [
    "#### Задача 8. \n",
    "\n",
    "Напишите функцию, которая будет рекурсивно вычислять число Фибоначчи с номером n по его номеру, но при этом работать она должна за линейное время (то есть, если вы передаете номер 30, ваша программа не должна умереть: рекурсивный вызов внутри функции должен быть только один). \n",
    "\n",
    "Про числа Фибоначчи можно почитать в Википедии.\n",
    "\n",
    "_Смогла только такой варинат придумать, где функция возращает два числа: число под номером n и следующее (по номеру n + 1)_"
   ]
  },
  {
   "cell_type": "code",
   "execution_count": null,
   "metadata": {},
   "outputs": [],
   "source": [
    "def fibonacci(num):\n",
    "    if num == 0:\n",
    "        return (0, 1)\n",
    "    prev, now = fibonacci(num - 1)\n",
    "    return now, prev + now\n",
    "# fibonacci(70)"
   ]
  },
  {
   "cell_type": "markdown",
   "metadata": {
    "id": "bKrber3cKleR"
   },
   "source": [
    "#### Задача 9. \n",
    "\n",
    "Зализняк. Дан текст (на английском языке), состоящий из нескольких предложений. Составьте список всех встретившихся в тексте словоформ, отсортированный в обратном лексикографическом порядке (как в обратном словаре А.А.Зализняка, только вам не надо решать задачу лемматизации). Вам нужно разбить строку на токены, убрать оттуда всё лишнее (т.е. всё, что не является словом, в том числе - числа, любые аббревиатуры с цифрами и вообще всё, в чём есть цифры), отсортировать соответствующим образом, убрать повторы, и напечатать получившийся список. Нельзя заводить вспомогательные списки, запрещается менять туда-сюда порядок букв слов в основном списке. Для токенизации достаточно использовать стандартные методы строк и punctuation из библиотеки string. "
   ]
  },
  {
   "cell_type": "code",
   "execution_count": null,
   "metadata": {
    "id": "FXOLzur8LTaq"
   },
   "outputs": [],
   "source": [
    "import string"
   ]
  },
  {
   "cell_type": "code",
   "execution_count": null,
   "metadata": {},
   "outputs": [],
   "source": [
    "exception = list(string.punctuation)\n",
    "exception.remove('-')\n",
    "exception.remove('\\'')\n",
    "# убрали пунктуацию (в основном)\n",
    "text = ''.join(ch for ch in input() if ch not in exception and not ch.isdigit()).lower()\n",
    "# убираем апострофы и дефисы, если они не внутри слова\n",
    "tokens = list(set(word.strip('-').strip('\\'') for word in text.split()))\n",
    "# на случай дефиса в качестве тире\n",
    "tokens.remove('')\n",
    "\n",
    "print(sorted(tokens, key = lambda x: x[::-1]))"
   ]
  },
  {
   "cell_type": "markdown",
   "metadata": {
    "id": "keiM4OOiLU9y"
   },
   "source": [
    "#### Задача 10. \n",
    "\n",
    "Напишите функцию, которая читает текст из файла в одной кодировке и перезаписывает его в другой файл в другой кодировке. Функция принимает в качестве аргументов два пути к файлам и две имени кодировки."
   ]
  },
  {
   "cell_type": "code",
   "execution_count": null,
   "metadata": {
    "id": "2iuswbbJLcPC"
   },
   "outputs": [],
   "source": [
    "def transform(path_in, path_out, enc_in, enc_out):\n",
    "    with open(path_in, 'r', encoding=enc_in) as f:\n",
    "        text = f.read()\n",
    "    with open(path_out, 'w', encoding=enc_out) as f:\n",
    "        f.write(text)\n",
    "# transform(r'C:\\docs\\test_a\\text.txt', r'C:\\docs\\test_b\\text.txt', 'utf-8', 'ansi')"
   ]
  },
  {
   "cell_type": "markdown",
   "metadata": {
    "id": "SZQa8EieLex6"
   },
   "source": [
    "#### Задача 11. \n",
    "\n",
    "В папке data содержатся файлы с англоязычными текстами. Программе передается только путь к этой папке, но не названия файлов (файлы в теории могут добавляться, мы заранее не знаем ни их названий, ни их числа). Во всех файлах есть только стандартные символы пунктуации, цифры и латинские буквы (диакритик нет). Подсчитайте статистику по каждому файлу: у вас должна быть функция, которая считает количество символов в файле, количество слов (достаточно использовать split() и strip()) и количество строк. Статистику запишите в отдельный файл."
   ]
  },
  {
   "cell_type": "code",
   "execution_count": null,
   "metadata": {
    "id": "og9e3pIoLnjq"
   },
   "outputs": [],
   "source": [
    "import os\n",
    "import string"
   ]
  },
  {
   "cell_type": "code",
   "execution_count": null,
   "metadata": {},
   "outputs": [],
   "source": [
    "def file_stat(path, file_name):\n",
    "    with open(os.path.join(path, file_name), 'r', encoding='utf-8') as f:\n",
    "        text = f.read()\n",
    "    exception = list(string.punctuation)\n",
    "    exception.remove('-')\n",
    "    exception.remove('\\'')\n",
    "    # убрали пунктуацию (в основном)\n",
    "    text = ''.join(symb for symb in text if symb not in exception and not symb.isdigit()).lower()\n",
    "    # убираем апострофы и дефисы, если они не внутри слова\n",
    "    lines = text.count('\\n') + 1\n",
    "    symbols = len(text)\n",
    "    tokens = len([word.strip('-').strip('\\'') for word in text.split() if not word in ('-', '\\'')])\n",
    "    return f'''{file_name}\n",
    "        Количество строк: {lines}\n",
    "        Количество символов: {symbols}\n",
    "        Количество слов: {tokens}\\n\\n'''"
   ]
  },
  {
   "cell_type": "code",
   "execution_count": null,
   "metadata": {},
   "outputs": [],
   "source": [
    "# path = input('Укажите путь к папке: ')\n",
    "path = 'data'\n",
    "res_file_name = 'statistics.txt'\n",
    "counter = 0\n",
    "while res_file_name in os.listdir(path):\n",
    "    res_file_name = f'statistics_{counter}.txt'\n",
    "    counter += 1\n",
    "for file in os.listdir(path):\n",
    "    with open(os.path.join(path, res_file_name), 'a', encoding='utf-8') as f:\n",
    "        f.write(file_stat(path, file))\n",
    "print(f'Название файла-отчёта — \"{res_file_name}\"')"
   ]
  },
  {
   "cell_type": "markdown",
   "metadata": {
    "id": "wtlOzKLaLmWq"
   },
   "source": [
    "#### Задача 12. \n",
    "\n",
    "Напишите функцию для сложения матриц, используя стандартные списки питона."
   ]
  },
  {
   "cell_type": "code",
   "execution_count": null,
   "metadata": {},
   "outputs": [],
   "source": [
    "# m_0 = [[2, 5, 9], [9, 2, 5], [9, 9, 2]]\n",
    "# m_1 = [[0, 3, 7], [7, 0, 3], [7, 7, 0]]\n",
    "# m_3 = [[1, 1, 1], [1, 1, 1], [1, 1, 1]]"
   ]
  },
  {
   "cell_type": "code",
   "execution_count": null,
   "metadata": {
    "id": "RC40l_0LL3xb"
   },
   "outputs": [],
   "source": [
    "# две матрицы\n",
    "def sum_two_matrix(matrix_a, matrix_b):\n",
    "    res = []\n",
    "    for i in range(len(matrix_a)):\n",
    "        res.append([matrix_b[i][j] + matrix_a[i][j] for j in range(len(matrix_a[0]))])\n",
    "    return res\n",
    "\n",
    "# сколько угодно матриц\n",
    "def sum_matrix(*matrix_arr):\n",
    "    res = matrix_arr[0].copy()\n",
    "    for i in range(len(matrix_arr[0])):\n",
    "        for j in range(len(matrix_arr[0][0])):\n",
    "            for matrix in matrix_arr[1:]:\n",
    "                res[i][j] += matrix[i][j]\n",
    "    return res"
   ]
  },
  {
   "cell_type": "markdown",
   "metadata": {
    "id": "_lnlkrPZL42j"
   },
   "source": [
    "#### Задача 13. \n",
    "\n",
    "Некоторый банк хочет внедрить систему управления счетами клиентов, поддерживающую следующие операции:\n",
    "\n",
    "Пополнение счета клиента.\n",
    "Снятие денег со счета.\n",
    "Запрос остатка средств на счете.\n",
    "Перевод денег между счетами клиентов.\n",
    "Начисление процентов всем клиентам.\n",
    "Вам необходимо реализовать такую систему. Клиенты банка идентифицируются именами (уникальная строка, не содержащая пробелов). Первоначально у банка нет ни одного клиента. Как только для клиента проводится операция пололнения, снятия или перевода денег, ему заводится счет с нулевым балансом. Все дальнейшие операции проводятся только с этим счетом. Сумма на счету может быть как положительной, так и отрицательной, при этом всегда является целым числом.\n",
    "\n",
    "Входной файл содержит последовательность операций. Возможны следующие операции:\n",
    "\n",
    "DEPOSIT name sum - зачислить сумму sum на счет клиента name. Если у клиента нет счета, то счет создается.\n",
    "\n",
    "WITHDRAW name sum - снять сумму sum со счета клиента name. Если у клиента нет счета, то счет создается.\n",
    "\n",
    "BALANCE name - узнать остаток средств на счету клиента name.\n",
    "\n",
    "TRANSFER name1 name2 sum - перевести сумму sum со счета клиента name1 на счет клиента name2. Если у какого-либо клиента нет счета, то ему создается счет.\n",
    "\n",
    "INCOME p - начислить всем клиентам, у которых открыты счета, p% от суммы счета. Проценты начисляются только клиентам с положительным остатком на счету, если у клиента остаток отрицательный, то его счет не меняется. После начисления процентов сумма на счету остается целой, то есть начисляется только целое число денежных единиц. Дробная часть начисленных процентов отбрасывается.\n",
    "\n",
    "Для каждого запроса BALANCE программа должна вывести остаток на счету данного клиента. Если же у клиента с запрашиваемым именем не открыт счет в банке, выведите ERROR."
   ]
  },
  {
   "cell_type": "code",
   "execution_count": null,
   "metadata": {},
   "outputs": [],
   "source": [
    "CLIENT_BASE = {}"
   ]
  },
  {
   "cell_type": "code",
   "execution_count": null,
   "metadata": {},
   "outputs": [],
   "source": [
    "class Client:\n",
    "    \n",
    "    def __init__(self, name, amount_money):\n",
    "        self.name = name\n",
    "        self.money = amount_money\n",
    "\n",
    "    def deposit(self, money):\n",
    "        self.money += int(money)\n",
    "    \n",
    "    def balance(self):\n",
    "        print(self.money)\n",
    "\n",
    "    def withdraw(self, money):\n",
    "        self.money -= int(money)\n",
    "    \n",
    "    def transfer(self, client_to, money):\n",
    "        self.withdraw(money)\n",
    "        client_to.deposit(money)\n",
    "\n",
    "    def income(self, percent):\n",
    "        if self.money > 0:\n",
    "            self.money += int(self.money * int(percent) / 100)\n",
    "\n",
    "def action(line):\n",
    "    request = line.split()\n",
    "    # начисление процентов\n",
    "    if request[0] == 'INCOME':\n",
    "        for client in CLIENT_BASE:\n",
    "            CLIENT_BASE[client].income(request[1])\n",
    "    # баланс\n",
    "    elif request[0] == 'BALANCE':\n",
    "        if request[1] in CLIENT_BASE.keys():\n",
    "            CLIENT_BASE[request[1]].balance()\n",
    "        else:\n",
    "            print('ERROR')\n",
    "    # перевод\n",
    "    elif request[0] == 'TRANSFER':\n",
    "        CLIENT_BASE[request[1]].transfer(CLIENT_BASE[request[2]], request[3])\n",
    "    # начисление и снятие\n",
    "    else:\n",
    "        if not request[1] in CLIENT_BASE:\n",
    "            CLIENT_BASE[request[1]] = Client(request[1], 0)\n",
    "        getattr(CLIENT_BASE[request[1]], request[0].lower())(request[2])"
   ]
  },
  {
   "cell_type": "code",
   "execution_count": null,
   "metadata": {},
   "outputs": [],
   "source": [
    "with open(input('Введите полный путь до файла: '), 'r', encoding='utf-8') as f:\n",
    "    commands = f.readlines()\n",
    "for command in commands:\n",
    "    action(command)"
   ]
  },
  {
   "cell_type": "markdown",
   "metadata": {
    "id": "BzOj_R_-MFkE"
   },
   "source": [
    "#### Задача 14. \n",
    "\n",
    "В некотором текстовом файле дан текст (достаточно длинный). Посчитайте лексическое разнообразие этого текста: то есть, количество уникальных слов в нем, поделенное на общее количество слов. "
   ]
  },
  {
   "cell_type": "code",
   "execution_count": null,
   "metadata": {},
   "outputs": [],
   "source": [
    "import re"
   ]
  },
  {
   "cell_type": "code",
   "execution_count": null,
   "metadata": {
    "id": "9S1cpLqFMPEi"
   },
   "outputs": [],
   "source": [
    "# удалить знаки препинания, цифры + убить регистр\n",
    "def delete_punctuation(text):\n",
    "    res = (re.sub(r'[^\\w\\s\\-\\']|\\n|\\d',' ', text).lower())\n",
    "    return ' '.join(res.split())"
   ]
  },
  {
   "cell_type": "code",
   "execution_count": null,
   "metadata": {},
   "outputs": [],
   "source": [
    "with open(input('Введите полный путь до файла: '), 'r', encoding='utf-8') as f:\n",
    "    full_text = f.read()\n",
    "tokens = [word.strip('-').strip('\\'') for word in delete_punctuation(full_text).split()]\n",
    "print('Процент уникальных слов без снятия лемматизации: ' + str(len(set(tokens)) / len(tokens)))"
   ]
  },
  {
   "cell_type": "code",
   "execution_count": null,
   "metadata": {},
   "outputs": [],
   "source": [
    "# с грубой лемматизацией:\n",
    "with open('to_lemmatize.txt', 'w', encoding='utf-8') as f:\n",
    "    f.write(' '.join(tokens))"
   ]
  },
  {
   "cell_type": "code",
   "execution_count": null,
   "metadata": {},
   "outputs": [],
   "source": [
    "# для этого в папке нужен файл mystem.exe\n",
    "!mystem -cld to_lemmatize.txt lemmatization_result.txt"
   ]
  },
  {
   "cell_type": "code",
   "execution_count": null,
   "metadata": {},
   "outputs": [],
   "source": [
    "# чтение файла после лемматизации\n",
    "with open('lemmatization_result.txt', 'r', encoding='utf-8') as f:\n",
    "    res = delete_punctuation(f.read()).replace(' - то', ' то<частица>').replace(' - ', ' ')\n",
    "# res.replace(' - то', 'то (частица)')\n",
    "# res.replace(' - ', ' ')\n",
    "after_lemm_tokens = res.split()\n",
    "print('Процент уникальных слов после грубоватой лемматизации: ' + str(len(set(after_lemm_tokens)) / len(after_lemm_tokens)))\n",
    "# after_lemm_tokens"
   ]
  },
  {
   "cell_type": "markdown",
   "metadata": {
    "id": "b5MFu6wSMQqa"
   },
   "source": [
    "#### Задача 15. \n",
    "\n",
    "А теперь (можно для того же текста) составьте частотный словарик для текста. Выведите 10 самых частотных слов. "
   ]
  },
  {
   "cell_type": "code",
   "execution_count": null,
   "metadata": {
    "id": "kDaGEKtSMdRj"
   },
   "outputs": [],
   "source": [
    "# без лемматизации\n",
    "dict_freq_no_lemm = {}\n",
    "for token in tokens:\n",
    "    if not token in dict_freq_no_lemm:\n",
    "        dict_freq_no_lemm[token] = 1\n",
    "    else:\n",
    "        dict_freq_no_lemm[token] += 1\n",
    "most_freq_no_lemm = sorted(list(set(tokens)), key = lambda x: dict_freq_no_lemm[x], reverse = True)[:10]\n",
    "print('Самые частотные словоформы (без лемматизации):')\n",
    "for lexeme in most_freq_no_lemm:\n",
    "    print(lexeme)"
   ]
  },
  {
   "cell_type": "code",
   "execution_count": null,
   "metadata": {},
   "outputs": [],
   "source": [
    "# с лемматизацией\n",
    "dict_freq_lemm = {}\n",
    "for token in after_lemm_tokens:\n",
    "    if not token in dict_freq_lemm:\n",
    "        dict_freq_lemm[token] = 1\n",
    "    else:\n",
    "        dict_freq_lemm[token] += 1\n",
    "most_freq_lemm = sorted(list(set(after_lemm_tokens)), key = lambda x: dict_freq_lemm[x], reverse = True)[:10]\n",
    "print('Самые частотные словоформы (после лемматизации):')\n",
    "for lexeme in most_freq_lemm:\n",
    "    print(lexeme)"
   ]
  }
 ],
 "metadata": {
  "colab": {
   "collapsed_sections": [],
   "provenance": []
  },
  "kernelspec": {
   "display_name": "Python 3",
   "language": "python",
   "name": "python3"
  },
  "language_info": {
   "codemirror_mode": {
    "name": "ipython",
    "version": 3
   },
   "file_extension": ".py",
   "mimetype": "text/x-python",
   "name": "python",
   "nbconvert_exporter": "python",
   "pygments_lexer": "ipython3",
   "version": "3.7.2"
  }
 },
 "nbformat": 4,
 "nbformat_minor": 4
}
